{
 "cells": [
  {
   "cell_type": "code",
   "execution_count": 1,
   "metadata": {},
   "outputs": [],
   "source": [
    "!cd /home/ir739wb/ilyarekun/bc_project/federated-learning/fed-avg-code"
   ]
  },
  {
   "cell_type": "code",
   "execution_count": null,
   "metadata": {},
   "outputs": [],
   "source": [
    "import flwr as fl\n",
    "from pytorch_example.client_app import client_fn\n",
    "from pytorch_example.strategy import strategy\n",
    "from pytorch_example.task import test_loader, get_model, device\n",
    "import matplotlib.pyplot as plt\n",
    "import numpy as np\n",
    "from sklearn.metrics import precision_recall_fscore_support"
   ]
  },
  {
   "cell_type": "code",
   "execution_count": null,
   "metadata": {},
   "outputs": [],
   "source": [
    "# Run federated learning simulation\n",
    "history = fl.simulation.start_simulation(\n",
    "    client_fn=client_fn,\n",
    "    num_clients=4,\n",
    "    config=fl.server.ServerConfig(num_rounds=10),\n",
    "    strategy=strategy,\n",
    ")\n",
    "print(\"Federated learning simulation completed.\")"
   ]
  },
  {
   "cell_type": "code",
   "execution_count": null,
   "metadata": {},
   "outputs": [],
   "source": [
    "# Plot metrics over rounds\n",
    "rounds = range(1, len(strategy.metrics_history['accuracy']) + 1)\n",
    "plt.figure(figsize=(12, 8))\n",
    "plt.plot(rounds, strategy.metrics_history['val_loss'], label='Validation Loss')\n",
    "plt.plot(rounds, strategy.metrics_history['accuracy'], label='Accuracy')\n",
    "plt.plot(rounds, strategy.metrics_history['precision'], label='Precision')\n",
    "plt.plot(rounds, strategy.metrics_history['recall'], label='Recall')\n",
    "plt.plot(rounds, strategy.metrics_history['f1'], label='F1 Score')\n",
    "plt.xlabel('Round')\n",
    "plt.ylabel('Metric Value')\n",
    "plt.title('Federated Learning Metrics Over Rounds')\n",
    "plt.legend()\n",
    "plt.grid(True)\n",
    "plt.show()"
   ]
  },
  {
   "cell_type": "code",
   "execution_count": null,
   "metadata": {},
   "outputs": [],
   "source": [
    "# Load final model\n",
    "model = get_model()\n",
    "state_dict = {k: torch.tensor(v) for k, v in zip(model.state_dict().keys(), strategy.final_parameters)}\n",
    "model.load_state_dict(state_dict)\n",
    "model.eval()\n",
    "\n",
    "# Evaluate on test set\n",
    "all_preds = []\n",
    "all_targets = []\n",
    "with torch.no_grad():\n",
    "    for data, target in test_loader:\n",
    "        data, target = data.to(device), target.to(device)\n",
    "        output = model(data)\n",
    "        _, predicted = torch.max(output, 1)\n",
    "        all_preds.extend(predicted.cpu().numpy())\n",
    "        all_targets.extend(target.cpu().numpy())\n",
    "\n",
    "# Compute test metrics\n",
    "accuracy = (np.array(all_preds) == np.array(all_targets)).mean()\n",
    "precision, recall, f1, _ = precision_recall_fscore_support(all_targets, all_preds, average='macro')\n",
    "\n",
    "# Print test metrics\n",
    "print(f\"Test Accuracy: {accuracy:.4f}\")\n",
    "print(f\"Test Precision: {precision:.4f}\")\n",
    "print(f\"Test Recall: {recall:.4f}\")\n",
    "print(f\"Test F1 Score: {f1:.4f}\")"
   ]
  },
  {
   "cell_type": "markdown",
   "metadata": {},
   "source": [
    "hello\n",
    "i need research on getting into it in data domain and machine learning related domain (this is example of first column but sort it differently\n",
    "Here’s a list of fundamental **data-related** and **machine learning-related** professions:  \n",
    "\n",
    "### **Data-Related Professions**  \n",
    "1. **Data Analyst** – Collects, processes, and analyzes data to extract insights.  \n",
    "2. **Business Intelligence (BI) Analyst** – Focuses on data visualization and reporting for business decision-making.  \n",
    "3. **Data Engineer** – Builds and maintains data pipelines and infrastructure.  \n",
    "4. **Database Administrator (DBA)** – Manages and optimizes databases for storage and retrieval.  \n",
    "5. **Data Scientist** – Applies statistical methods and machine learning to analyze and interpret complex data.  \n",
    "6. **Data Architect** – Designs large-scale data management systems and frameworks.  \n",
    "7. **ETL Developer** – Specializes in Extract, Transform, Load (ETL) processes to move data across systems.  \n",
    "\n",
    "### **Machine Learning & AI-Related Professions**  \n",
    "8. **Machine Learning Engineer** – Develops and deploys machine learning models into production.  \n",
    "9. **Deep Learning Engineer** – Specializes in neural networks and deep learning algorithms.  \n",
    "10. **AI Research Scientist** – Works on advancing the field of artificial intelligence through research.  \n",
    "11. **Computer Vision Engineer** – Focuses on AI models related to image and video processing.  \n",
    "12. **NLP Engineer** – Works on natural language processing applications like chatbots and text analysis.  \n",
    "13. **MLOps Engineer** – Manages the deployment, monitoring, and maintenance of ML models in production.  \n",
    "14. **AI Product Manager** – Oversees AI-driven products, ensuring they align with business goals.  \n",
    ")\n",
    "make a table where on left vertical column a name of position (1 - 14)\n",
    "each other column is some information\n",
    "make next columns\n",
    "1. list of needed requirements (make it specific, if its a language, specify libraries, frameworks or tasks related to it), list requirements from the most needed to least\n",
    "2. amount of open positions in europe for different levels, internship junior middle senior and more, you can use any ranges that you think are the best descriptive\n",
    "3. how easy it is to enter the job market - like threshold\n",
    "4. pay range at different levels which are listed above\n",
    "5. list of positions that i can transfer to sorted from easiest to hardest\n",
    "6. how much time does it take to enter job market for this position\n",
    "\n",
    "\n",
    "im expecting a table 15 by 7 with written research\n",
    "\n"
   ]
  },
  {
   "cell_type": "code",
   "execution_count": null,
   "metadata": {},
   "outputs": [],
   "source": []
  },
  {
   "cell_type": "code",
   "execution_count": null,
   "metadata": {},
   "outputs": [],
   "source": []
  }
 ],
 "metadata": {
  "kernelspec": {
   "display_name": "Python (deitenv1)",
   "language": "python",
   "name": "deitenv1"
  },
  "language_info": {
   "codemirror_mode": {
    "name": "ipython",
    "version": 3
   },
   "file_extension": ".py",
   "mimetype": "text/x-python",
   "name": "python",
   "nbconvert_exporter": "python",
   "pygments_lexer": "ipython3",
   "version": "3.9.21"
  }
 },
 "nbformat": 4,
 "nbformat_minor": 2
}
