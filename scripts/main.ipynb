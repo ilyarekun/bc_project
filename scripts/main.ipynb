{
 "cells": [
  {
   "cell_type": "code",
   "execution_count": 1,
   "metadata": {},
   "outputs": [
    {
     "name": "stdout",
     "output_type": "stream",
     "text": [
      "\u001b[0;94m Static hostname:\u001b[0m DGX\n",
      "\u001b[0;94m       Icon name:\u001b[0m computer-server\n",
      "\u001b[0;94m         Chassis:\u001b[0m server 🖳\n",
      "\u001b[0;94m      Machine ID:\u001b[0m dedf5691225742ff95b33f842b0781cc\n",
      "\u001b[0;94m         Boot ID:\u001b[0m cb04df0ff1774eeda112c63867eeefdd\n",
      "\u001b[0;94mOperating System:\u001b[0m \u001b]8;;https://www.ubuntu.com/\u0007Ubuntu 24.04.2 LTS\u001b]8;;\u0007              \n",
      "\u001b[0;94m          Kernel:\u001b[0m Linux 6.8.0-53-generic\n",
      "\u001b[0;94m    Architecture:\u001b[0m x86-64\n",
      "\u001b[0;94m Hardware Vendor:\u001b[0m NVIDIA\n",
      "\u001b[0;94m  Hardware Model:\u001b[0m DGXA100 920-23687-2530-002\n",
      "\u001b[0;94mFirmware Version:\u001b[0m 1.29\n",
      "\u001b[0;94m   Firmware Date:\u001b[0m Tue 2024-08-06\n",
      "\u001b[0;94m    Firmware Age:\u001b[0m 7month 2d\n"
     ]
    }
   ],
   "source": [
    "!hostnamectl"
   ]
  },
  {
   "cell_type": "markdown",
   "metadata": {},
   "source": [
    "- download the data\n",
    "- analyze it\n",
    "- make data loaders for CL\n",
    "- make train function for CL\n",
    "- train, test model and save metrics"
   ]
  },
  {
   "cell_type": "markdown",
   "metadata": {},
   "source": [
    "## imports"
   ]
  },
  {
   "cell_type": "code",
   "execution_count": null,
   "metadata": {},
   "outputs": [],
   "source": [
    "import kagglehub\n",
    "import shutil\n",
    "import os\n",
    "from torchvision.datasets import ImageFolder\n",
    "from torchvision.transforms import transforms\n",
    "from torch.utils.data import DataLoader\n",
    "import torch\n",
    "import torchvision.models as models "
   ]
  },
  {
   "cell_type": "markdown",
   "metadata": {},
   "source": [
    "# Data preprocessing"
   ]
  },
  {
   "cell_type": "code",
   "execution_count": null,
   "metadata": {},
   "outputs": [],
   "source": [
    "# download the data\n",
    "\n",
    "os.chdir(os.path.expanduser(\"~ir739wb/ilyarekun\")) # change this for your machine\n",
    "print(os.system(\"pwd\"))\n",
    "\n",
    "\n",
    "dst = os.path.expanduser(\"bc_project/data\")  \n",
    "\n",
    "# moving data to project folder\n",
    "if not os.path.exists(dst):\n",
    "    os.makedirs(dst)\n",
    "    print(\"Data dir created successfully\")\n",
    "    \n",
    "if os.listdir(dst) == []:\n",
    "    path = kagglehub.dataset_download(\"andyczhao/covidx-cxr2\")\n",
    "    print(\"Path to dataset files:\", path)\n",
    "    shutil.move(path, dst)\n",
    "    print(\"Data moved successfully\")\n",
    "print(os.system(\"pwd\"))\n"
   ]
  },
  {
   "cell_type": "code",
   "execution_count": null,
   "metadata": {},
   "outputs": [],
   "source": [
    "def data_loaders_centralyzed():\n",
    "    os.chdir(os.path.expanduser(\"~ir739wb/ilyarekun/bc_project/01data/9\"))\n",
    "\n",
    "    transform = transforms.Compose([\n",
    "        transforms.Resize(256),\n",
    "        transforms.CenterCrop(224),\n",
    "        transforms.Tensor(),\n",
    "        transforms.Normalize(mean=[0.485, 0.456, 0.406], std=[0.229, 0.224, 0.225]) \n",
    "    ])\n",
    "    \n",
    "    train_dataset = ImageFolder('train', transform=transform)\n",
    "    test_dataset = ImageFolder('test', transform=transform)\n",
    "    val_dataset = ImageFolder('val', transform=transform)\n",
    "    \n",
    "    train_loader = DataLoader(train_dataset, batch_size=32, shuffle=True)\n",
    "    test_loader = DataLoader(test_dataset, batch_size=32, shuffle=False)\n",
    "    val_loader = DataLoader(val_dataset, batch_size=32, shuffle=False)\n",
    "\n",
    "    return train_loader, test_loader, val_loader"
   ]
  },
  {
   "cell_type": "markdown",
   "metadata": {},
   "source": [
    "# Centralyzed Learning"
   ]
  },
  {
   "cell_type": "code",
   "execution_count": null,
   "metadata": {},
   "outputs": [],
   "source": []
  },
  {
   "cell_type": "code",
   "execution_count": null,
   "metadata": {},
   "outputs": [],
   "source": [
    "\n",
    "model = models.resnet18(pretrained = True)\n",
    "\n",
    "for param in model.parameters():\n",
    "    param.requires_grad = False\n",
    "    \n",
    "num_classes = 2\n",
    "\n",
    "\n",
    "# Define the loss function and optimizer\n",
    "criterion = torch.nn.CrossEntropyLoss()\n",
    "optimizer = torch.optim.SGD(model.fc.parameters(), lr=0.001, momentum=0.9)\n"
   ]
  }
 ],
 "metadata": {
  "kernelspec": {
   "display_name": "myenv",
   "language": "python",
   "name": "python3"
  },
  "language_info": {
   "codemirror_mode": {
    "name": "ipython",
    "version": 3
   },
   "file_extension": ".py",
   "mimetype": "text/x-python",
   "name": "python",
   "nbconvert_exporter": "python",
   "pygments_lexer": "ipython3",
   "version": "3.12.9"
  }
 },
 "nbformat": 4,
 "nbformat_minor": 2
}
